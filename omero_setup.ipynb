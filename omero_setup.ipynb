{
 "cells": [
  {
   "cell_type": "code",
   "execution_count": 117,
   "id": "f79ef70d",
   "metadata": {},
   "outputs": [
    {
     "name": "stdout",
     "output_type": "stream",
     "text": [
      "Connection successful\n"
     ]
    }
   ],
   "source": [
    "# Connect to Omero\n",
    "\n",
    "import ezomero\n",
    "\n",
    "HOST = 'ome2.hpc.sussex.ac.uk' #change if different\n",
    "port=4064\n",
    "conn = ezomero.connect(user='rz200',password='omeroreset',group='',host=HOST,port=4064,secure=True)\n",
    "if conn: print('Connection successful')\n",
    "else: print('Unsuccessful')"
   ]
  },
  {
   "cell_type": "code",
   "execution_count": 118,
   "id": "4e29dbbd",
   "metadata": {},
   "outputs": [
    {
     "name": "stdout",
     "output_type": "stream",
     "text": [
      "In plate 812 we have 180 images\n"
     ]
    }
   ],
   "source": [
    "# Get the image_ids from a specific plate\n",
    "\n",
    "plate = 812\n",
    "image_ids = ezomero.get_image_ids(conn,plate=plate)\n",
    "print('In plate',plate,'we have',len(image_ids),'images')"
   ]
  },
  {
   "cell_type": "code",
   "execution_count": 119,
   "id": "7cf3d68d",
   "metadata": {},
   "outputs": [],
   "source": [
    "# Display an image\n",
    "\n",
    "im_object, im_array = ezomero.get_image(conn, image_ids[0])"
   ]
  },
  {
   "cell_type": "code",
   "execution_count": 120,
   "id": "6c12d1b5",
   "metadata": {},
   "outputs": [],
   "source": [
    "# Ignore\n",
    "# Progressbar to visualise progress of loop\n",
    "\n",
    "import sys\n",
    "def progressbar(it, prefix=\"\", size=60, out=sys.stdout): # Python3.3+\n",
    "    count = len(it)\n",
    "    def show(j):\n",
    "        x = int(size*j/count)\n",
    "        print(\"{}[{}{}] {}/{}\".format(prefix, \"#\"*x, \".\"*(size-x), j, count), \n",
    "                end='\\r', file=out, flush=True)\n",
    "    show(0)\n",
    "    for i, item in enumerate(it):\n",
    "        yield item\n",
    "        show(i+1)\n",
    "    print(\"\\n\", flush=True, file=out)"
   ]
  },
  {
   "cell_type": "code",
   "execution_count": 121,
   "id": "2baaf1ba",
   "metadata": {},
   "outputs": [
    {
     "name": "stdout",
     "output_type": "stream",
     "text": [
      "Computing: [########################################] 180/180\n",
      "\n"
     ]
    }
   ],
   "source": [
    "# Get all of the images into an array\n",
    "\n",
    "data_images = []\n",
    "for i in progressbar(range(len(image_ids)), \"Computing: \", 40):\n",
    "    data_images.append(ezomero.get_image(conn, image_ids[i])[1])"
   ]
  },
  {
   "cell_type": "code",
   "execution_count": 122,
   "id": "34baacb5",
   "metadata": {},
   "outputs": [],
   "source": [
    "# Save images to a local file\n",
    "\n",
    "import os\n",
    "import imageio\n",
    "path = str(os.getcwd()) + \"/data/\"\n",
    "\n",
    "num = 0\n",
    "for img in data_images:\n",
    "    imwrite(path + str(num)  + '.tif', img)\n",
    "    num +=1"
   ]
  },
  {
   "cell_type": "code",
   "execution_count": 125,
   "id": "8a791883",
   "metadata": {
    "scrolled": true
   },
   "outputs": [],
   "source": [
    "# Display an image\n",
    "\n",
    "from tifffile import imread\n",
    "a = imread(str(os.getcwd()) + \"/data/\" + str(0) + \".tif\")\n",
    "\n",
    "a_s = np.squeeze(a)\n",
    "b = np.linalg.norm(a_s)\n",
    "norm=a_s/b\n",
    "norm *= (1/norm.max())\n",
    "\n",
    "plt.imshow(norm[:,:,0])\n",
    "plt.show()\n",
    "\n",
    "plt.imshow(norm[:,:,1])\n",
    "plt.show()\n",
    "\n",
    "plt.imshow(norm[:,:,2])\n",
    "plt.show()\n",
    "\n",
    "plt.imshow(norm[:,:,3])\n",
    "plt.show()"
   ]
  }
 ],
 "metadata": {
  "kernelspec": {
   "display_name": "Python 3 (ipykernel)",
   "language": "python",
   "name": "python3"
  },
  "language_info": {
   "codemirror_mode": {
    "name": "ipython",
    "version": 3
   },
   "file_extension": ".py",
   "mimetype": "text/x-python",
   "name": "python",
   "nbconvert_exporter": "python",
   "pygments_lexer": "ipython3",
   "version": "3.8.13"
  }
 },
 "nbformat": 4,
 "nbformat_minor": 5
}
